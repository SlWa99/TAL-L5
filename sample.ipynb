{
 "cells": [
  {
   "metadata": {},
   "cell_type": "markdown",
   "source": "# Tester et évaluer un modèle déjà entraîné sur Google News\n",
   "id": "c9596f7a87b82732"
  },
  {
   "metadata": {},
   "cell_type": "markdown",
   "source": "### Téléchargement du modèle word2vec pré entrainé sur le corpus de Google News",
   "id": "8a77807f92f26ee"
  },
  {
   "metadata": {
    "ExecuteTime": {
     "end_time": "2025-05-01T11:54:43.192752Z",
     "start_time": "2025-05-01T11:54:43.066522Z"
    }
   },
   "cell_type": "code",
   "source": [
    "from gensim import downloader as api\n",
    "path_to_file = api.load(\"word2vec-google-news-300\", return_path=True)"
   ],
   "id": "fbc121e30a2defb3",
   "outputs": [],
   "execution_count": 3
  },
  {
   "metadata": {
    "ExecuteTime": {
     "end_time": "2025-05-01T11:55:34.988629Z",
     "start_time": "2025-05-01T11:54:44.788602Z"
    }
   },
   "cell_type": "code",
   "source": [
    "from gensim.models import KeyedVectors\n",
    "w2v_vectors = KeyedVectors.load_word2vec_format(path_to_file, binary=True)"
   ],
   "id": "e00a01710ba3ec5b",
   "outputs": [],
   "execution_count": 4
  },
  {
   "metadata": {},
   "cell_type": "markdown",
   "source": "### a. Quelle place en mémoire occupe le processus du notebook avec les vecteurs de mots ?",
   "id": "66c14df69a6edac1"
  },
  {
   "metadata": {
    "ExecuteTime": {
     "end_time": "2025-05-01T11:59:48.147530Z",
     "start_time": "2025-05-01T11:59:48.131382Z"
    }
   },
   "cell_type": "code",
   "source": "print(f\"Taille du notebook : {w2v_vectors.vectors.nbytes / (1024 ** 2):.2f} MB\")",
   "id": "c2fe61cf4f5afab5",
   "outputs": [
    {
     "name": "stdout",
     "output_type": "stream",
     "text": [
      "Taille du notebook : 3433.23 MB\n"
     ]
    }
   ],
   "execution_count": 7
  },
  {
   "metadata": {},
   "cell_type": "markdown",
   "source": "### b. Quelle est la dimension de l’espace vectoriel dans lequel les mots sont représentés ?",
   "id": "a3105ddbc17f1620"
  },
  {
   "metadata": {
    "ExecuteTime": {
     "end_time": "2025-05-01T12:07:58.230483Z",
     "start_time": "2025-05-01T12:07:58.220476Z"
    }
   },
   "cell_type": "code",
   "source": "print(f\"Les vecteurs de mots ont une dimension de : {w2v_vectors.vector_size} dimensions\")",
   "id": "4b472b8c6fa51ec5",
   "outputs": [
    {
     "name": "stdout",
     "output_type": "stream",
     "text": [
      "Les vecteurs de mots ont une dimension de : 300 dimensions\n"
     ]
    }
   ],
   "execution_count": 12
  },
  {
   "metadata": {},
   "cell_type": "markdown",
   "source": "### c. Quelle est la taille du vocabulaire connu du modèle ?  Veuillez afficher cinq mots anglais qui sont dans le vocabulaire et deux qui ne le sont pas.",
   "id": "774852931cee8802"
  },
  {
   "metadata": {
    "ExecuteTime": {
     "end_time": "2025-05-01T12:10:13.201286Z",
     "start_time": "2025-05-01T12:10:13.191505Z"
    }
   },
   "cell_type": "code",
   "source": "print(f\" Taille du vocabulaire : {len(w2v_vectors.key_to_index)} mots\")",
   "id": "c8fd57e258d64055",
   "outputs": [
    {
     "name": "stdout",
     "output_type": "stream",
     "text": [
      " Taille du vocabulaire : 3000000 mots\n"
     ]
    }
   ],
   "execution_count": 14
  },
  {
   "metadata": {
    "ExecuteTime": {
     "end_time": "2025-05-01T12:12:43.588847Z",
     "start_time": "2025-05-01T12:12:43.532845Z"
    }
   },
   "cell_type": "code",
   "source": [
    "import random\n",
    "\n",
    "sample_words = random.sample(list(w2v_vectors.key_to_index.keys()), 5)\n",
    "print(\"Exemples de mots connus du modèle :\", sample_words)"
   ],
   "id": "9b5bb40e79fda7b7",
   "outputs": [
    {
     "name": "stdout",
     "output_type": "stream",
     "text": [
      "Exemples de mots connus du modèle : ['Screen_Protector', 'AND_CROWN_PRINCE', 'Commences_Cash', 'pasture_paddocks', 'Turkuaz']\n"
     ]
    }
   ],
   "execution_count": 25
  },
  {
   "metadata": {
    "ExecuteTime": {
     "end_time": "2025-05-01T12:22:32.549048Z",
     "start_time": "2025-05-01T12:22:32.541962Z"
    }
   },
   "cell_type": "code",
   "source": [
    "unknown = [\"horloge\", \"Horloge\",\"Huitante\", \"huitante\", \"Altruiste\", \"altruiste\" ,\"montre\", \"Montre\", \"MoNtRe\"]\n",
    "print(\"Ces mots sont-ils dans le vocabulaire ?\")\n",
    "for word in unknown:\n",
    "    print(f\"{word} : {'Oui' if word in w2v_vectors else 'Non'}\")\n",
    "\n",
    "\"\"\"\n",
    "C'est étonnant que le mot \"horloge\" ne soit pas dans le vocabulaire, car il est très courant en français. De plus, on peut voir que \"Horloge\" est dans le vocabulaire du modèle. Grâce aux tests effectués sur le mot \"montre\", on peut voir que le modèle est sensible à la casse.\n",
    "\"\"\""
   ],
   "id": "b09fb71957753bd6",
   "outputs": [
    {
     "name": "stdout",
     "output_type": "stream",
     "text": [
      "Ces mots sont-ils dans le vocabulaire ?\n",
      "horloge : Non\n",
      "Horloge : Oui\n",
      "Huitante : Non\n",
      "huitante : Non\n",
      "Altruiste : Non\n",
      "altruiste : Non\n",
      "montre : Oui\n",
      "Montre : Oui\n",
      "MoNtRe : Non\n"
     ]
    },
    {
     "data": {
      "text/plain": [
       "'\\nC\\'est étonnant que le mot \"horloge\" ne soit pas dans le vocabulaire, car il est très courant en français. De plus, on peut voir que \"Horloge\" est dans le vocabulaire du modèle.\\n'"
      ]
     },
     "execution_count": 42,
     "metadata": {},
     "output_type": "execute_result"
    }
   ],
   "execution_count": 42
  },
  {
   "metadata": {},
   "cell_type": "markdown",
   "source": "### d. Quelle est la similarité entre les mots rabbit et carrot ?  Veuillez rappeler comment on mesure les similarités entre deux mots grâce à leurs vecteurs.",
   "id": "84e4e67d0dfe807b"
  },
  {
   "metadata": {
    "ExecuteTime": {
     "end_time": "2025-05-01T12:27:06.095420Z",
     "start_time": "2025-05-01T12:27:06.078059Z"
    }
   },
   "cell_type": "code",
   "source": [
    "print(f\"Similarité entre les mots 'rabbit' et 'carrot' : {w2v_vectors.similarity('rabbit', 'carrot'):.4f}\")\n",
    "\n",
    "\"\"\"\n",
    "La similarité entre deux mots est mesurée par le produit scalaire de leurs vecteurs, normalisé par la norme de chacun des vecteurs. En d'autres termes, la similarité entre deux mots est donnée par la formule : Similiarité(a, b) = a * b / ||a|| * ||b||\n",
    "\"\"\""
   ],
   "id": "dcdf1b60bf236296",
   "outputs": [
    {
     "name": "stdout",
     "output_type": "stream",
     "text": [
      "Similarité entre les mots 'rabbit' et 'carrot' : 0.3631\n"
     ]
    },
    {
     "data": {
      "text/plain": [
       "\"\\nLa similarité entre deux mots est mesurée par le produit scalaire de leurs vecteurs, normalisé par la norme de chacun des vecteurs. En d'autres termes, la similarité entre deux mots est donnée par la formule : Similiarité(a, b) = a * b / ||a|| * ||b||\\n\""
      ]
     },
     "execution_count": 46,
     "metadata": {},
     "output_type": "execute_result"
    }
   ],
   "execution_count": 46
  },
  {
   "metadata": {},
   "cell_type": "markdown",
   "source": "### e. Considérez au moins 5 paires de mots anglais, certains proches par leurs sens, d’autres plus éloignés. Pour chaque paire, calculez la similarité entre les deux mots.  Veuillez indiquer si les similarités obtenues correspondent à vos intuitions sur la proximité des sens des mots.",
   "id": "e96b1e08ab54e11e"
  },
  {
   "metadata": {
    "ExecuteTime": {
     "end_time": "2025-05-01T12:42:44.611206Z",
     "start_time": "2025-05-01T12:42:44.590475Z"
    }
   },
   "cell_type": "code",
   "source": [
    "word_pairs = [(\"king\", \"queen\"), (\"cat\", \"tiger\"), (\"computer\", \"tree\"), (\"wheel\", \"spider\"), (\"security\", \"byte\")]\n",
    "\n",
    "for word1, word2 in word_pairs:\n",
    "    similarity = w2v_vectors.similarity(word1, word2)\n",
    "    print(f\"Similarité entre '{word1}' et '{word2}' : {similarity:.4f}\")\n",
    "\n",
    "\"\"\"\n",
    "De manière générale, les similarités obtenues correspondent à nos intuitions. Toutefois, nous aurions pensé que la similiarité entre \"computer\" et \"tree\"serait plus élevée. Le modèle doit très certaienemnt comprendre le mot \"tree\" comme étant un arbre dans une forêt, et non une structure informatique. Le constat est le même pour \"securtiy\" et \"byte\". Pour ce cas de figure, on peut penser que le score obtenu est légitime car le mot \"security\" est trop général et peut être utilisé dans de nombreux contextes.\n",
    "\"\"\""
   ],
   "id": "b13814b86e759a37",
   "outputs": [
    {
     "name": "stdout",
     "output_type": "stream",
     "text": [
      "Similarité entre 'king' et 'queen' : 0.6511\n",
      "Similarité entre 'cat' et 'tiger' : 0.5173\n",
      "Similarité entre 'computer' et 'tree' : 0.1062\n",
      "Similarité entre 'wheel' et 'spider' : 0.1464\n",
      "Similarité entre 'security' et 'byte' : 0.1081\n"
     ]
    },
    {
     "data": {
      "text/plain": [
       "'\\nDe manière générale, les similarités obtenues correspondent à nos intuitions. Toutefois, nous aurions pensé que la similiarité entre \"computer\" et \"tree\"serait plus élevée. Le modèle doit très certaienemnt comprendre le mot \"tree\" comme étant un arbre dans une forêt, et non une structure informatique. Le constat est le même pour \"securtiy\" et \"byte\". Pour ce cas de figure, on peut penser que le score obtenu est légitime car le mot \"security\" est trop général et peut être utilisé dans de nombreux contextes.\\n'"
      ]
     },
     "execution_count": 54,
     "metadata": {},
     "output_type": "execute_result"
    }
   ],
   "execution_count": 54
  },
  {
   "metadata": {},
   "cell_type": "markdown",
   "source": "### f. Pouvez-vous trouver des mots de sens opposés mais qui sont proches selon le modèle ? Comment expliquez-vous cela ?  Est-ce une qualité ou un défaut du modèle word2vec ?",
   "id": "897822d61644fd"
  },
  {
   "metadata": {},
   "cell_type": "code",
   "outputs": [],
   "execution_count": null,
   "source": [
    "word_pairs = [(\"walk\", \"drive\"), (\"day\", \"night\"), (\"\", \"\"), (\"\", \"\"), (\"\", \"\")]\n",
    "\n",
    "for word1, word2 in word_pairs:\n",
    "    similarity = w2v_vectors.similarity(word1, word2)\n",
    "    print(f\"Similarité entre '{word1}' et '{word2}' : {similarity:.4f}\")"
   ],
   "id": "29e5015cbc52d0a1"
  }
 ],
 "metadata": {
  "kernelspec": {
   "display_name": "Python 3",
   "language": "python",
   "name": "python3"
  },
  "language_info": {
   "codemirror_mode": {
    "name": "ipython",
    "version": 2
   },
   "file_extension": ".py",
   "mimetype": "text/x-python",
   "name": "python",
   "nbconvert_exporter": "python",
   "pygments_lexer": "ipython2",
   "version": "2.7.6"
  }
 },
 "nbformat": 4,
 "nbformat_minor": 5
}
